{
 "cells": [
  {
   "cell_type": "markdown",
   "metadata": {
    "index": 0
   },
   "source": [
    "# Warmdown - Phase 1 Cumulative"
   ]
  },
  {
   "cell_type": "markdown",
   "metadata": {
    "index": 1
   },
   "source": [
    "In this lab, we will create a small program that will print out a report for an inputted date.\n",
    "\n",
    "This program will:\n",
    "\n",
    "- Receive a date formatted as `month/day/year`\n",
    "- Parse the date to create individual variables for \n",
    "    - Month (string)\n",
    "    - Day (string)\n",
    "    - Month (string)\n",
    "    - Year (string)\n",
    "    - Month Name (string)\n",
    "- Query the public holidays api to check if the date was a holiday.\n",
    "- Connect to the `www.onthisday.com` website and scrape the `Important Events` listed for a given date.\n",
    "- Manipulate a dataset of stock information in pandas and find the 5 largest stock increases and declines for and inputted day.\n",
    "- Visualize the the top five increases and declines using subplots.\n",
    "\n",
    "Some code has been provided to generate the report itself. Your task is to write the following functions:\n",
    "\n",
    "The goal is to produce a function that will produce the following:\n",
    "\n",
    "![](example.png)"
   ]
  },
  {
   "cell_type": "code",
   "execution_count": null,
   "metadata": {
    "ExecuteTime": {
     "end_time": "2021-06-03T20:59:40.618963Z",
     "start_time": "2021-06-03T20:59:39.214442Z"
    },
    "index": 2
   },
   "outputs": [],
   "source": [
    "import pandas as pd\n",
    "import requests\n",
    "from bs4 import BeautifulSoup\n",
    "import matplotlib.pyplot as plt\n",
    "from IPython.display import display, Markdown"
   ]
  },
  {
   "cell_type": "markdown",
   "metadata": {
    "index": 4
   },
   "source": [
    "## Task 1"
   ]
  },
  {
   "cell_type": "markdown",
   "metadata": {
    "index": 5
   },
   "source": [
    "In the cell below, define a function called `parse_date`.\n",
    "\n",
    "This function should \n",
    "- Receive a single argument `date` with a datatype of string.\n",
    "- The expected format of the string should be `month/day/year` where both month and day are integers.\n",
    "- Parse the date variable to seperate the month and day integers.\n",
    "- Map the month integer to the name of the month using the provided dictionary\n",
    "- Returns the month (string), the day (string), and the name of the month (string)\n",
    "\n",
    "An example output for this function would look as follows:\n",
    "\n",
    "```python\n",
    "parse_date('06/03/2015')\n",
    ">> ('06', '03', '2015' ,'June')\n",
    "```"
   ]
  },
  {
   "cell_type": "code",
   "execution_count": null,
   "metadata": {
    "ExecuteTime": {
     "end_time": "2021-06-03T20:59:40.627913Z",
     "start_time": "2021-06-03T20:59:40.624248Z"
    },
    "index": 6
   },
   "outputs": [],
   "source": [
    "def parse_date():\n",
    "    month_map =  {1: 'January', 2: 'February', 3: 'March',\n",
    "                  4: 'April', 5: 'May', 6: 'June', 7: 'July',\n",
    "                  8: 'August', 9: 'September', 10:'October', \n",
    "                  11: 'Novembers', 12: 'December'}\n",
    "    \n",
    "    # Your code here"
   ]
  },
  {
   "cell_type": "markdown",
   "metadata": {
    "index": 8
   },
   "source": [
    "## Task 2\n",
    "\n",
    "In the cell below, define a function called `holidays_api` \n",
    "\n",
    "This function should do the following:\n",
    "\n",
    "- Receive a single argument called `year` with a datatype of string.\n",
    "- Connects to the [Public Holidays API](https://date.nager.at/Api) and returns the public holidays data for the inputted year.\n",
    "\n",
    "An example output of this function would look like this:\n",
    "\n",
    "```python\n",
    "holidays_api('2015')\n",
    ">> [{'date': '2015-01-01',\n",
    "  'localName': \"New Year's Day\",\n",
    "  'name': \"New Year's Day\",\n",
    "  'countryCode': 'US',\n",
    "  'fixed': False,\n",
    "  'global': True,\n",
    "  'counties': None,\n",
    "  'launchYear': None,\n",
    "  'type': 'Public'},\n",
    "```"
   ]
  },
  {
   "cell_type": "code",
   "execution_count": null,
   "metadata": {
    "ExecuteTime": {
     "end_time": "2021-06-03T20:59:40.665358Z",
     "start_time": "2021-06-03T20:59:40.663115Z"
    },
    "index": 9
   },
   "outputs": [],
   "source": [
    "# Your code here"
   ]
  },
  {
   "cell_type": "markdown",
   "metadata": {
    "index": 11
   },
   "source": [
    "## Task 3\n",
    "\n",
    "In the cell below, define a function called `is_public_holiday` that receives four arguments\n",
    "1. month - integer\n",
    "2. day - integer\n",
    "4. year - integer\n",
    "3. holiday_data - list\n",
    "\n",
    "This function should:\n",
    "- Loop over the holiday_data list and check if the date is found within the data. If the date is not found, the function should return None. If a date is found, the function should return the name of the holiday.\n",
    "\n",
    "An example of this function's output looks like this:\n",
    "\n",
    "```python\n",
    "is_public_holiday('09', '07', '2015', holiday_data)\n",
    ">>> 'Labour Day'\n",
    "```"
   ]
  },
  {
   "cell_type": "code",
   "execution_count": null,
   "metadata": {
    "ExecuteTime": {
     "end_time": "2021-06-03T20:59:40.672939Z",
     "start_time": "2021-06-03T20:59:40.670834Z"
    },
    "index": 12
   },
   "outputs": [],
   "source": [
    "# Your code here"
   ]
  },
  {
   "cell_type": "markdown",
   "metadata": {
    "index": 14
   },
   "source": [
    "## Task 4\n",
    "\n",
    "In the cell below define a function called `get_historical_events` that scrapes the historical events for a given day.\n",
    "\n",
    "This function should receive 2 arguments:\n",
    "1. The name of a month\n",
    "2. The day of the month.\n",
    "\n",
    "The url format for this problem is as follows:\n",
    "\n",
    "`f'https://www.onthisday.com/day/{month_name}/{day}'`\n",
    "\n",
    "This function should return a list of strings for each historical event for the inputted date.\n",
    "\n",
    "The desired output looks like this \n",
    "\n",
    "```python\n",
    "get_historical_events('July', '07')\n",
    ">> ['1520 Battle of Otumba, Mexico: Hernán Cortés and the Tlaxcalans defeat a numerically superior Aztec force',\n",
    " '1937 Japanese and Chinese troops clash at the Marco Polo Bridge, beginning the Second Sino-Japanese War',\n",
    " '1947 Alleged and disputed Roswell UFO incident',\n",
    " \"2005 Coordinated terrorist bomb blasts strike London's public transport system during the morning rush hour killing 52 and injuring 700\",\n",
    " '2005 Influenced by Live 8, the G8 leaders pledge to double 2004 levels of aid to Africa from US$25 to US$50 billion by the year 2010',\n",
    " '1936 RCA shows 1st real TV program (dancing, film on locomotives, Bonwit Teller fashion show and monologue from Tobacco Road & comedy)',\n",
    " \"1990 First Three Tenors concert featuring Plácido Domingo, José Carreras and Luciano Pavarotti at Baths of Caracalla in Rome - recording of is world's best-selling classical record\",\n",
    " \"1990 Wimbledon Women's Tennis: Martina Navratilova wins her record 9th Wimbledon singles title beating American Zina Garrison 6-4, 6-1\",\n",
    " '1932 Author Damon Runyon (51) weds Patrice Amati del Grande',\n",
    " '1946 39th US President Jimmy Carter (21) weds Rosalynn Smith (18) in Plains, Georgia',\n",
    " '1970 Actress Shelley Duvall (21) weds Bernard Sampson',\n",
    " '1943 Heavyweight boxing champ Jack Dempsey (48) divorces broadway singer Hannah Williams (32) after 10 years of marriage',\n",
    " '1953 Actor José Ferrer divorces dancer and actress Phyllis Hill after 5 years of marriage',\n",
    " '1994 Actress Diane Lane files for divorce from Christopher Lambert']\n",
    "```"
   ]
  },
  {
   "cell_type": "code",
   "execution_count": null,
   "metadata": {
    "ExecuteTime": {
     "end_time": "2021-06-03T20:59:40.682236Z",
     "start_time": "2021-06-03T20:59:40.680226Z"
    },
    "index": 15
   },
   "outputs": [],
   "source": [
    "# Your code here"
   ]
  },
  {
   "cell_type": "markdown",
   "metadata": {
    "index": 17
   },
   "source": [
    "## Task 5"
   ]
  },
  {
   "cell_type": "markdown",
   "metadata": {
    "index": 18
   },
   "source": [
    "Below, we import a dataset containing stock data from 02/2013-02/2018"
   ]
  },
  {
   "cell_type": "code",
   "execution_count": null,
   "metadata": {
    "ExecuteTime": {
     "end_time": "2021-06-03T20:59:41.018401Z",
     "start_time": "2021-06-03T20:59:40.688354Z"
    },
    "index": 19
   },
   "outputs": [],
   "source": [
    "data = pd.read_csv('archive/all_stocks_5yr.csv')\n",
    "data.head()"
   ]
  },
  {
   "cell_type": "markdown",
   "metadata": {
    "index": 21
   },
   "source": [
    "In the cell below, define a function called `find_top_stock_changes` that receives four arguments\n",
    "1. month - string\n",
    "2. day - string\n",
    "3. year - string\n",
    "4. data - pandas dataframe\n",
    "\n",
    "This function should return four lists\n",
    "1. A list of 5 stock names with the highest increases on the inputted day\n",
    "2. A list of 5 stock names with the highest declines on the inputted day\n",
    "3. A list of the 5 stock changes for top increases\n",
    "4. A list of the 5 stock changes for top declines.\n",
    "\n",
    "\n",
    "An example of this function's output looks like this:\n",
    "```python\n",
    "find_top_stock_changes('09', '08', '2015', data)\n",
    ">> (['REGN', 'PCLN', 'AZO', 'AMZN', 'EQIX'],\n",
    " ['NFLX', 'COO', 'MCK', 'RRC', 'PVH'],\n",
    " [27.879999999999995,\n",
    "  12.400000000000091,\n",
    "  9.860000000000014,\n",
    "  8.849999999999966,\n",
    "  8.059999999999945],\n",
    " [-7.1299999999999955,\n",
    "  -3.890000000000015,\n",
    "  -0.960000000000008,\n",
    "  -0.9300000000000068,\n",
    "  -0.7999999999999972])\n",
    "```"
   ]
  },
  {
   "cell_type": "code",
   "execution_count": null,
   "metadata": {
    "ExecuteTime": {
     "end_time": "2021-06-03T20:59:41.325615Z",
     "start_time": "2021-06-03T20:59:41.322038Z"
    },
    "index": 22
   },
   "outputs": [],
   "source": [
    "# Your code here"
   ]
  },
  {
   "cell_type": "markdown",
   "metadata": {
    "index": 24
   },
   "source": [
    "## Task 6\n",
    "\n",
    "In the cell below, define a function that receives 4 arguments\n",
    "1. increase_names - A list of 5 stock names with the highest increases on the inputted day\n",
    "2. decline_names - A list of 5 stock names with the highest declines on the inputted day\n",
    "3. increase_change - A list of the 5 stock changes for top increases\n",
    "4. decline_change - A list of the 5 stock changes for top declines.\n",
    "\n",
    "\n",
    "This function should:\n",
    "\n",
    "- Output two bar charts next to each other the show the increases and declines for the inputted stock changes.\n",
    "\n",
    "This function's output should look like this:\n",
    "\n",
    "![](plot_stock_info.png)"
   ]
  },
  {
   "cell_type": "code",
   "execution_count": null,
   "metadata": {
    "ExecuteTime": {
     "end_time": "2021-06-03T20:59:41.333136Z",
     "start_time": "2021-06-03T20:59:41.331425Z"
    },
    "index": 25
   },
   "outputs": [],
   "source": [
    "# Your code here"
   ]
  },
  {
   "cell_type": "markdown",
   "metadata": {
    "ExecuteTime": {
     "end_time": "2021-06-03T20:46:55.312614Z",
     "start_time": "2021-06-03T20:46:55.309343Z"
    },
    "index": 27
   },
   "source": [
    "# Put it all together\n",
    "\n",
    "In the cell below, we provide some code for printing the report.\n",
    "\n",
    "Run this cell unchanged."
   ]
  },
  {
   "cell_type": "code",
   "execution_count": null,
   "metadata": {
    "ExecuteTime": {
     "end_time": "2021-06-03T20:59:41.665750Z",
     "start_time": "2021-06-03T20:59:41.338252Z"
    },
    "code_folding": [
     11,
     20,
     27,
     32
    ],
    "index": 28
   },
   "outputs": [],
   "source": [
    "data = pd.read_csv('archive/all_stocks_5yr.csv')\n",
    "data['change'] = data.close - data.open\n",
    "\n",
    "def main(date, stock_data):\n",
    "    month, day, year, month_name = parse_date(date)\n",
    "    display(Markdown(\"# {}/{} Report\\n\\n\".format(month, day)))\n",
    "    holidays_data =  holidays_api(year)\n",
    "    holiday = is_public_holiday(month, day, year, holidays_data)\n",
    "    historical_events = get_historical_events(month_name, day)\n",
    "    increase_names, decrease_names, increase_changes, decrease_changes = find_top_stock_changes(month, day, \n",
    "                                                                                           year, data)\n",
    "    print_holiday(month, day, year, holiday)\n",
    "    print_historical_events(historical_events)\n",
    "    if increase_names and decrease_names:\n",
    "        plot_stock_info(increase_names, decrease_names, increase_changes, decrease_changes)\n",
    "    else:\n",
    "        display(Markdown(\"\\n\\n**No stock data was found for this day.**\"))\n",
    "\n",
    "\n",
    "def print_holiday(month, day, year, holiday):\n",
    "    template = ''\n",
    "    if holiday:\n",
    "        template += \"{}/{}/{} is **{}**!\\n\\n\".format(month, day, year, holiday)\n",
    "    else:\n",
    "        template += \"**{}/{} was not a public holiday in {}.**\".format(month, day, year)\n",
    "    markdown = Markdown(template)\n",
    "    display(markdown)\n",
    "        \n",
    "def print_historical_events(events):\n",
    "    \n",
    "    events_formatted = [f'**{event.split()[0]}** ' + ' '.join(event.split()[1:]) for event in events]\n",
    "    template = '### Historical Highlights'\n",
    "    for event in events_formatted:\n",
    "        template += '\\n\\n- ' + event\n",
    "\n",
    "    markdown = Markdown(template)\n",
    "    display(markdown)\n",
    "    \n"
   ]
  },
  {
   "cell_type": "markdown",
   "metadata": {
    "index": 30
   },
   "source": [
    "# Run your code\n",
    "\n",
    "If each of your functions were named correctly, received the correct number of arguments and in the correct order, and output the correct data, the following function should generate the report!"
   ]
  },
  {
   "cell_type": "code",
   "execution_count": null,
   "metadata": {
    "ExecuteTime": {
     "end_time": "2021-06-03T20:59:42.616607Z",
     "start_time": "2021-06-03T20:59:41.988742Z"
    },
    "index": 31
   },
   "outputs": [],
   "source": [
    "main('09/08/2015', data)"
   ]
  }
 ],
 "metadata": {
  "kernelspec": {
   "display_name": "Python 3",
   "language": "python",
   "name": "python3"
  },
  "language_info": {
   "codemirror_mode": {
    "name": "ipython",
    "version": 3
   },
   "file_extension": ".py",
   "mimetype": "text/x-python",
   "name": "python",
   "nbconvert_exporter": "python",
   "pygments_lexer": "ipython3",
   "version": "3.7.4"
  },
  "toc": {
   "base_numbering": 1,
   "nav_menu": {},
   "number_sections": false,
   "sideBar": true,
   "skip_h1_title": false,
   "title_cell": "Table of Contents",
   "title_sidebar": "Contents",
   "toc_cell": false,
   "toc_position": {},
   "toc_section_display": true,
   "toc_window_display": false
  }
 },
 "nbformat": 4,
 "nbformat_minor": 2
}
